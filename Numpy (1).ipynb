{
 "cells": [
  {
   "cell_type": "code",
   "execution_count": null,
   "id": "a70c4335",
   "metadata": {},
   "outputs": [],
   "source": [
    "Numpy >> Numerical python"
   ]
  },
  {
   "cell_type": "markdown",
   "id": "4562b1fa",
   "metadata": {},
   "source": [
    "# Application >>"
   ]
  },
  {
   "cell_type": "code",
   "execution_count": null,
   "id": "54b5d29e",
   "metadata": {},
   "outputs": [],
   "source": [
    "1. Linear Algebra\n",
    "2. Statistics\n",
    "3. Trigonomerty\n",
    "4. Matrix Operations\n",
    "5. Image procesing\n",
    "6. Logarithmic"
   ]
  },
  {
   "cell_type": "markdown",
   "id": "9f30c0e3",
   "metadata": {},
   "source": [
    "# Numpy Properties"
   ]
  },
  {
   "cell_type": "code",
   "execution_count": null,
   "id": "5b79cca4",
   "metadata": {},
   "outputs": [],
   "source": [
    "1. It is a collection of homogenous datatype\n",
    "2. Numpy is faster than list\n",
    "3. Numpy is written in C and C++ language (Partially in python)\n",
    "4. C language is faster than python\n",
    "\n",
    "Data type >> numpy.ndarray >> n-Dimensional array"
   ]
  },
  {
   "cell_type": "code",
   "execution_count": 5,
   "id": "c134b9f2",
   "metadata": {},
   "outputs": [
    {
     "name": "stdout",
     "output_type": "stream",
     "text": [
      "[1, 2, 34, 'python', 5.3]\n",
      "<class 'list'>\n"
     ]
    }
   ],
   "source": [
    "list1 = [1,2,34,\"python\",5.3]\n",
    "print(list1)\n",
    "print(type(list1))"
   ]
  },
  {
   "cell_type": "code",
   "execution_count": 4,
   "id": "9399f387",
   "metadata": {},
   "outputs": [
    {
     "data": {
      "text/plain": [
       "array([2, 4, 5, 6])"
      ]
     },
     "execution_count": 4,
     "metadata": {},
     "output_type": "execute_result"
    }
   ],
   "source": [
    "import numpy as np\n",
    "\n",
    "array1 = np.array([2,4,5,6])\n",
    "array1"
   ]
  },
  {
   "cell_type": "code",
   "execution_count": 6,
   "id": "4060eb4c",
   "metadata": {},
   "outputs": [
    {
     "name": "stdout",
     "output_type": "stream",
     "text": [
      "<class 'numpy.ndarray'>\n"
     ]
    }
   ],
   "source": [
    "print(type(array1))"
   ]
  },
  {
   "cell_type": "code",
   "execution_count": 7,
   "id": "d7b44019",
   "metadata": {},
   "outputs": [
    {
     "data": {
      "text/plain": [
       "array([2, 3, 4, 5, 6])"
      ]
     },
     "execution_count": 7,
     "metadata": {},
     "output_type": "execute_result"
    }
   ],
   "source": [
    "array1 = np.array([2,3,4,5,6])\n",
    "array1"
   ]
  },
  {
   "cell_type": "code",
   "execution_count": 8,
   "id": "b51dd8ed",
   "metadata": {},
   "outputs": [
    {
     "data": {
      "text/plain": [
       "array([2. , 3. , 4. , 5. , 6.5])"
      ]
     },
     "execution_count": 8,
     "metadata": {},
     "output_type": "execute_result"
    }
   ],
   "source": [
    "array1 = np.array([2,3,4,5,6.5])\n",
    "array1"
   ]
  },
  {
   "cell_type": "code",
   "execution_count": 9,
   "id": "418fe7fe",
   "metadata": {},
   "outputs": [
    {
     "data": {
      "text/plain": [
       "array(['2', '3', '4', '5', '6'], dtype='<U11')"
      ]
     },
     "execution_count": 9,
     "metadata": {},
     "output_type": "execute_result"
    }
   ],
   "source": [
    "array1 = np.array([2,3,4,5,\"6\"])\n",
    "array1"
   ]
  },
  {
   "cell_type": "code",
   "execution_count": 10,
   "id": "d69d32cd",
   "metadata": {},
   "outputs": [
    {
     "data": {
      "text/plain": [
       "array([2.+0.j, 3.+0.j, 4.+0.j, 5.+0.j, 4.+5.j])"
      ]
     },
     "execution_count": 10,
     "metadata": {},
     "output_type": "execute_result"
    }
   ],
   "source": [
    "array1 = np.array([2,3,4,5,4+5j])\n",
    "array1"
   ]
  },
  {
   "cell_type": "markdown",
   "id": "fbe94871",
   "metadata": {},
   "source": [
    "# type casting in Numpy array"
   ]
  },
  {
   "cell_type": "code",
   "execution_count": 11,
   "id": "ccc1e9a1",
   "metadata": {},
   "outputs": [
    {
     "data": {
      "text/plain": [
       "array([2, 3, 4, 5, 6])"
      ]
     },
     "execution_count": 11,
     "metadata": {},
     "output_type": "execute_result"
    }
   ],
   "source": [
    "array1 = np.array([2,3,4,5,6.5],dtype = \"int\")\n",
    "array1"
   ]
  },
  {
   "cell_type": "code",
   "execution_count": 12,
   "id": "d1038e3b",
   "metadata": {},
   "outputs": [
    {
     "data": {
      "text/plain": [
       "array([2. , 3. , 4. , 5. , 6.5])"
      ]
     },
     "execution_count": 12,
     "metadata": {},
     "output_type": "execute_result"
    }
   ],
   "source": [
    "array1 = np.array([2,3,4,5,6.5],dtype = \"float\")\n",
    "array1"
   ]
  },
  {
   "cell_type": "code",
   "execution_count": 13,
   "id": "245317fe",
   "metadata": {},
   "outputs": [
    {
     "data": {
      "text/plain": [
       "array([2. , 3. , 4. , 5. , 6.5], dtype=float32)"
      ]
     },
     "execution_count": 13,
     "metadata": {},
     "output_type": "execute_result"
    }
   ],
   "source": [
    "array1 = np.array([2,3,4,5,6.5],dtype = \"f\")\n",
    "array1"
   ]
  },
  {
   "cell_type": "code",
   "execution_count": 14,
   "id": "7bea089f",
   "metadata": {},
   "outputs": [
    {
     "data": {
      "text/plain": [
       "array([2. +0.j, 3. +0.j, 4. +0.j, 5. +0.j, 6.5+0.j])"
      ]
     },
     "execution_count": 14,
     "metadata": {},
     "output_type": "execute_result"
    }
   ],
   "source": [
    "array1 = np.array([2,3,4,5,6.5],dtype = complex)\n",
    "array1"
   ]
  },
  {
   "cell_type": "code",
   "execution_count": 15,
   "id": "02ec2b84",
   "metadata": {},
   "outputs": [
    {
     "ename": "TypeError",
     "evalue": "can't convert complex to float",
     "output_type": "error",
     "traceback": [
      "\u001b[1;31m---------------------------------------------------------------------------\u001b[0m",
      "\u001b[1;31mTypeError\u001b[0m                                 Traceback (most recent call last)",
      "\u001b[1;32m<ipython-input-15-d679d356d7f1>\u001b[0m in \u001b[0;36m<module>\u001b[1;34m\u001b[0m\n\u001b[1;32m----> 1\u001b[1;33m \u001b[0marray1\u001b[0m \u001b[1;33m=\u001b[0m \u001b[0mnp\u001b[0m\u001b[1;33m.\u001b[0m\u001b[0marray\u001b[0m\u001b[1;33m(\u001b[0m\u001b[1;33m[\u001b[0m\u001b[1;36m2\u001b[0m\u001b[1;33m,\u001b[0m\u001b[1;36m3\u001b[0m\u001b[1;33m,\u001b[0m\u001b[1;36m4\u001b[0m\u001b[1;33m,\u001b[0m\u001b[1;36m5\u001b[0m\u001b[1;33m,\u001b[0m\u001b[1;36m6\u001b[0m\u001b[1;33m+\u001b[0m\u001b[1;36m5j\u001b[0m\u001b[1;33m]\u001b[0m\u001b[1;33m,\u001b[0m\u001b[0mdtype\u001b[0m \u001b[1;33m=\u001b[0m \u001b[0mfloat\u001b[0m\u001b[1;33m)\u001b[0m\u001b[1;33m\u001b[0m\u001b[1;33m\u001b[0m\u001b[0m\n\u001b[0m\u001b[0;32m      2\u001b[0m \u001b[0marray1\u001b[0m\u001b[1;33m\u001b[0m\u001b[1;33m\u001b[0m\u001b[0m\n",
      "\u001b[1;31mTypeError\u001b[0m: can't convert complex to float"
     ]
    }
   ],
   "source": [
    "array1 = np.array([2,3,4,5,6+5j],dtype = float)\n",
    "array1"
   ]
  },
  {
   "cell_type": "code",
   "execution_count": 16,
   "id": "52934f0b",
   "metadata": {},
   "outputs": [
    {
     "ename": "TypeError",
     "evalue": "can't convert complex to int",
     "output_type": "error",
     "traceback": [
      "\u001b[1;31m---------------------------------------------------------------------------\u001b[0m",
      "\u001b[1;31mTypeError\u001b[0m                                 Traceback (most recent call last)",
      "\u001b[1;32m<ipython-input-16-36726d619b3a>\u001b[0m in \u001b[0;36m<module>\u001b[1;34m\u001b[0m\n\u001b[1;32m----> 1\u001b[1;33m \u001b[0marray1\u001b[0m \u001b[1;33m=\u001b[0m \u001b[0mnp\u001b[0m\u001b[1;33m.\u001b[0m\u001b[0marray\u001b[0m\u001b[1;33m(\u001b[0m\u001b[1;33m[\u001b[0m\u001b[1;36m2\u001b[0m\u001b[1;33m,\u001b[0m\u001b[1;36m3\u001b[0m\u001b[1;33m,\u001b[0m\u001b[1;36m4\u001b[0m\u001b[1;33m,\u001b[0m\u001b[1;36m5\u001b[0m\u001b[1;33m,\u001b[0m\u001b[1;36m6\u001b[0m\u001b[1;33m+\u001b[0m\u001b[1;36m5j\u001b[0m\u001b[1;33m]\u001b[0m\u001b[1;33m,\u001b[0m\u001b[0mdtype\u001b[0m \u001b[1;33m=\u001b[0m \u001b[0mint\u001b[0m\u001b[1;33m)\u001b[0m\u001b[1;33m\u001b[0m\u001b[1;33m\u001b[0m\u001b[0m\n\u001b[0m\u001b[0;32m      2\u001b[0m \u001b[0marray1\u001b[0m\u001b[1;33m\u001b[0m\u001b[1;33m\u001b[0m\u001b[0m\n",
      "\u001b[1;31mTypeError\u001b[0m: can't convert complex to int"
     ]
    }
   ],
   "source": [
    "array1 = np.array([2,3,4,5,6+5j],dtype = int)\n",
    "array1"
   ]
  },
  {
   "cell_type": "code",
   "execution_count": 17,
   "id": "4c507700",
   "metadata": {},
   "outputs": [
    {
     "data": {
      "text/plain": [
       "array(['2', '3', '4', '5', '6'], dtype='<U1')"
      ]
     },
     "execution_count": 17,
     "metadata": {},
     "output_type": "execute_result"
    }
   ],
   "source": [
    "array1 = np.array([2,3,4,5,6],dtype = str)\n",
    "array1"
   ]
  },
  {
   "cell_type": "code",
   "execution_count": 18,
   "id": "d07e0383",
   "metadata": {},
   "outputs": [
    {
     "data": {
      "text/plain": [
       "array([2, 3, 4, 5, 6])"
      ]
     },
     "execution_count": 18,
     "metadata": {},
     "output_type": "execute_result"
    }
   ],
   "source": [
    "array1 = np.array((2,3,4,5,6))\n",
    "array1"
   ]
  },
  {
   "cell_type": "markdown",
   "id": "407ab93e",
   "metadata": {},
   "source": [
    "# Dimension in Numpy array"
   ]
  },
  {
   "cell_type": "markdown",
   "id": "15c7f671",
   "metadata": {},
   "source": [
    "# 1. 0-D array"
   ]
  },
  {
   "cell_type": "code",
   "execution_count": 19,
   "id": "a3c4ffa4",
   "metadata": {},
   "outputs": [
    {
     "data": {
      "text/plain": [
       "array(30)"
      ]
     },
     "execution_count": 19,
     "metadata": {},
     "output_type": "execute_result"
    }
   ],
   "source": [
    "array0 = np.array(30)\n",
    "array0"
   ]
  },
  {
   "cell_type": "code",
   "execution_count": 20,
   "id": "29567e5a",
   "metadata": {},
   "outputs": [
    {
     "data": {
      "text/plain": [
       "array(300)"
      ]
     },
     "execution_count": 20,
     "metadata": {},
     "output_type": "execute_result"
    }
   ],
   "source": [
    "array0 = np.array(300)\n",
    "array0"
   ]
  },
  {
   "cell_type": "code",
   "execution_count": 21,
   "id": "9dfcbe64",
   "metadata": {},
   "outputs": [
    {
     "data": {
      "text/plain": [
       "0"
      ]
     },
     "execution_count": 21,
     "metadata": {},
     "output_type": "execute_result"
    }
   ],
   "source": [
    "array0 = np.array(300)\n",
    "array0.ndim"
   ]
  },
  {
   "cell_type": "code",
   "execution_count": 22,
   "id": "bc95a8d5",
   "metadata": {},
   "outputs": [
    {
     "name": "stdout",
     "output_type": "stream",
     "text": [
      "Number of dimension of an array : 0\n"
     ]
    }
   ],
   "source": [
    "array0 = np.array(300)\n",
    "print(\"Number of dimension of an array :\",array0.ndim)"
   ]
  },
  {
   "cell_type": "markdown",
   "id": "4641a70b",
   "metadata": {},
   "source": [
    "## 2. 1-Dimensional array"
   ]
  },
  {
   "cell_type": "code",
   "execution_count": null,
   "id": "ae1ffb01",
   "metadata": {},
   "outputs": [],
   "source": [
    "IT IS COLLECTION OF MULTIPLE 0-dimensional arrays"
   ]
  },
  {
   "cell_type": "code",
   "execution_count": 23,
   "id": "2a8b83ca",
   "metadata": {},
   "outputs": [
    {
     "name": "stdout",
     "output_type": "stream",
     "text": [
      "array is : [2 3 4 5 6]\n",
      "Number of dimension of an array : 1\n"
     ]
    }
   ],
   "source": [
    "array1 = np.array([2,3,4,5,6])\n",
    "print(\"array is :\",array1)\n",
    "print(\"Number of dimension of an array :\",array1.ndim)"
   ]
  },
  {
   "cell_type": "code",
   "execution_count": 24,
   "id": "bfc6ae6e",
   "metadata": {},
   "outputs": [
    {
     "name": "stdout",
     "output_type": "stream",
     "text": [
      "array is : [2]\n",
      "Number of dimension of an array : 1\n"
     ]
    }
   ],
   "source": [
    "array1 = np.array([2])\n",
    "print(\"array is :\",array1)\n",
    "print(\"Number of dimension of an array :\",array1.ndim)"
   ]
  },
  {
   "cell_type": "code",
   "execution_count": 25,
   "id": "aed36994",
   "metadata": {},
   "outputs": [
    {
     "name": "stdout",
     "output_type": "stream",
     "text": [
      "array is : 2\n",
      "Number of dimension of an array : 0\n"
     ]
    }
   ],
   "source": [
    "array1 = np.array((2))  # np.array(2)\n",
    "print(\"array is :\",array1)\n",
    "print(\"Number of dimension of an array :\",array1.ndim)"
   ]
  },
  {
   "cell_type": "code",
   "execution_count": 27,
   "id": "adadbbe9",
   "metadata": {},
   "outputs": [
    {
     "name": "stdout",
     "output_type": "stream",
     "text": [
      "2 <class 'int'>\n"
     ]
    }
   ],
   "source": [
    "a = (2)\n",
    "print(a,type(a))"
   ]
  },
  {
   "cell_type": "code",
   "execution_count": 28,
   "id": "b623f879",
   "metadata": {},
   "outputs": [
    {
     "name": "stdout",
     "output_type": "stream",
     "text": [
      "(2,) <class 'tuple'>\n"
     ]
    }
   ],
   "source": [
    "a = (2,)\n",
    "print(a,type(a))"
   ]
  },
  {
   "cell_type": "code",
   "execution_count": 29,
   "id": "4d4f79a4",
   "metadata": {},
   "outputs": [
    {
     "name": "stdout",
     "output_type": "stream",
     "text": [
      "array is : [2]\n",
      "Number of dimension of an array : 1\n"
     ]
    }
   ],
   "source": [
    "array1 = np.array((2,))  \n",
    "print(\"array is :\",array1)\n",
    "print(\"Number of dimension of an array :\",array1.ndim)"
   ]
  },
  {
   "cell_type": "markdown",
   "id": "06234f97",
   "metadata": {},
   "source": [
    "## 3. 2-Dimensional array"
   ]
  },
  {
   "cell_type": "code",
   "execution_count": null,
   "id": "87e3166c",
   "metadata": {},
   "outputs": [],
   "source": [
    "It is collection of multiple 1 -dimensional arrays"
   ]
  },
  {
   "cell_type": "code",
   "execution_count": 31,
   "id": "1f36b915",
   "metadata": {},
   "outputs": [
    {
     "name": "stdout",
     "output_type": "stream",
     "text": [
      "array is :\n",
      " [[ 2  3  4]\n",
      " [10 20 30]]\n",
      "Number of dimension of an array : 2\n"
     ]
    }
   ],
   "source": [
    "array2 = np.array([[2,3,4],[10,20,30]])\n",
    "print(\"array is :\\n\",array2)\n",
    "print(\"Number of dimension of an array :\",array2.ndim)"
   ]
  },
  {
   "cell_type": "code",
   "execution_count": 32,
   "id": "be022813",
   "metadata": {},
   "outputs": [
    {
     "name": "stdout",
     "output_type": "stream",
     "text": [
      "array is :\n",
      " [[  2   3   4]\n",
      " [ 10  20  30]\n",
      " [100 200 300]]\n",
      "Number of dimension of an array : 2\n"
     ]
    }
   ],
   "source": [
    "array2 = np.array([[2,3,4],[10,20,30],[100,200,300]])\n",
    "print(\"array is :\\n\",array2)\n",
    "print(\"Number of dimension of an array :\",array2.ndim)"
   ]
  },
  {
   "cell_type": "code",
   "execution_count": 33,
   "id": "2fd1aee5",
   "metadata": {},
   "outputs": [
    {
     "name": "stdout",
     "output_type": "stream",
     "text": [
      "array is :\n",
      " [list([2, 3, 4]) list([10, 20, 30]) list([100, 200])]\n",
      "Number of dimension of an array : 1\n"
     ]
    },
    {
     "name": "stderr",
     "output_type": "stream",
     "text": [
      "<ipython-input-33-3d3e37fd59ba>:1: VisibleDeprecationWarning: Creating an ndarray from ragged nested sequences (which is a list-or-tuple of lists-or-tuples-or ndarrays with different lengths or shapes) is deprecated. If you meant to do this, you must specify 'dtype=object' when creating the ndarray.\n",
      "  array2 = np.array([[2,3,4],[10,20,30],[100,200]])\n"
     ]
    }
   ],
   "source": [
    "array2 = np.array([[2,3,4],[10,20,30],[100,200]])\n",
    "print(\"array is :\\n\",array2)\n",
    "print(\"Number of dimension of an array :\",array2.ndim)"
   ]
  },
  {
   "cell_type": "code",
   "execution_count": 34,
   "id": "3d92ccf8",
   "metadata": {},
   "outputs": [
    {
     "data": {
      "text/plain": [
       "[[2, 3, 4], [10, 20, 30], [100, 200, 300]]"
      ]
     },
     "execution_count": 34,
     "metadata": {},
     "output_type": "execute_result"
    }
   ],
   "source": [
    "l1 = [[2,3,4],[10,20,30],[100,200,300]]\n",
    "l1"
   ]
  },
  {
   "cell_type": "code",
   "execution_count": 35,
   "id": "6f0175d0",
   "metadata": {},
   "outputs": [
    {
     "data": {
      "text/plain": [
       "[[2, 3, 4], [10, 20, 30], [100, 200]]"
      ]
     },
     "execution_count": 35,
     "metadata": {},
     "output_type": "execute_result"
    }
   ],
   "source": [
    "l1 = [[2,3,4],[10,20,30],[100,200]]\n",
    "l1"
   ]
  },
  {
   "cell_type": "code",
   "execution_count": 36,
   "id": "78cf0057",
   "metadata": {},
   "outputs": [
    {
     "data": {
      "text/plain": [
       "[[2, 3, 4], [10, 20, 30], [100, 200], 300]"
      ]
     },
     "execution_count": 36,
     "metadata": {},
     "output_type": "execute_result"
    }
   ],
   "source": [
    "l1 = [[2,3,4],[10,20,30],[100,200],300]\n",
    "l1"
   ]
  },
  {
   "cell_type": "markdown",
   "id": "e1908f95",
   "metadata": {},
   "source": [
    "# 4.3-D array"
   ]
  },
  {
   "cell_type": "code",
   "execution_count": null,
   "id": "510a2815",
   "metadata": {},
   "outputs": [],
   "source": [
    "It is collection of multiple 2 dimentional arrays"
   ]
  },
  {
   "cell_type": "code",
   "execution_count": 37,
   "id": "00e67de7",
   "metadata": {},
   "outputs": [
    {
     "name": "stdout",
     "output_type": "stream",
     "text": [
      "array is :\n",
      " [[[  2   3   4]\n",
      "  [ 10  20  30]\n",
      "  [100 200 300]]]\n",
      "Number of dimension of an array : 3\n"
     ]
    }
   ],
   "source": [
    "array3 = np.array([[[2,3,4],[10,20,30],[100,200,300]]])\n",
    "print(\"array is :\\n\",array3)\n",
    "print(\"Number of dimension of an array :\",array3.ndim)"
   ]
  },
  {
   "cell_type": "code",
   "execution_count": 39,
   "id": "ffeb7e3a",
   "metadata": {},
   "outputs": [
    {
     "name": "stdout",
     "output_type": "stream",
     "text": [
      "array is :\n",
      " [[[  2   3   4]\n",
      "  [ 10  20  30]\n",
      "  [100 200 300]\n",
      "  [  1   2   3]]]\n",
      "Number of dimension of an array : 3\n"
     ]
    }
   ],
   "source": [
    "array3 = np.array([[[2,3,4],[10,20,30],[100,200,300],[1,2,3]]])\n",
    "print(\"array is :\\n\",array3)\n",
    "print(\"Number of dimension of an array :\",array3.ndim)"
   ]
  },
  {
   "cell_type": "markdown",
   "id": "cc11f04e",
   "metadata": {},
   "source": [
    "# Access items using indexing and slicing"
   ]
  },
  {
   "cell_type": "code",
   "execution_count": 40,
   "id": "510e287d",
   "metadata": {},
   "outputs": [
    {
     "data": {
      "text/plain": [
       "6"
      ]
     },
     "execution_count": 40,
     "metadata": {},
     "output_type": "execute_result"
    }
   ],
   "source": [
    "list1 = [3,4,5,6,7]\n",
    "list1[3]"
   ]
  },
  {
   "cell_type": "code",
   "execution_count": 41,
   "id": "c34d4333",
   "metadata": {},
   "outputs": [
    {
     "data": {
      "text/plain": [
       "[4, 5]"
      ]
     },
     "execution_count": 41,
     "metadata": {},
     "output_type": "execute_result"
    }
   ],
   "source": [
    "list1 = [3,4,5,6,7]\n",
    "list1[1:3]"
   ]
  },
  {
   "cell_type": "code",
   "execution_count": 42,
   "id": "e064395d",
   "metadata": {},
   "outputs": [
    {
     "data": {
      "text/plain": [
       "6"
      ]
     },
     "execution_count": 42,
     "metadata": {},
     "output_type": "execute_result"
    }
   ],
   "source": [
    "array1 = np.array([3,4,5,6,7])\n",
    "array1[3]"
   ]
  },
  {
   "cell_type": "code",
   "execution_count": 44,
   "id": "58be87f0",
   "metadata": {},
   "outputs": [
    {
     "data": {
      "text/plain": [
       "7"
      ]
     },
     "execution_count": 44,
     "metadata": {},
     "output_type": "execute_result"
    }
   ],
   "source": [
    "array1 = np.array([3,4,5,6,7])\n",
    "array1[4]"
   ]
  },
  {
   "cell_type": "code",
   "execution_count": 46,
   "id": "9823250a",
   "metadata": {},
   "outputs": [
    {
     "data": {
      "text/plain": [
       "array([4, 5, 6])"
      ]
     },
     "execution_count": 46,
     "metadata": {},
     "output_type": "execute_result"
    }
   ],
   "source": [
    "array1 = np.array([3,4,5,6,7])\n",
    "array1[4]"
   ]
  },
  {
   "cell_type": "code",
   "execution_count": 47,
   "id": "a4ef8526",
   "metadata": {},
   "outputs": [
    {
     "data": {
      "text/plain": [
       "array([5, 6])"
      ]
     },
     "execution_count": 47,
     "metadata": {},
     "output_type": "execute_result"
    }
   ],
   "source": [
    "array1 = np.array([3,4,5,6,7])\n",
    "array1[-3:-1]"
   ]
  },
  {
   "cell_type": "code",
   "execution_count": 48,
   "id": "c002bf87",
   "metadata": {},
   "outputs": [
    {
     "data": {
      "text/plain": [
       "array([5, 6, 7])"
      ]
     },
     "execution_count": 48,
     "metadata": {},
     "output_type": "execute_result"
    }
   ],
   "source": [
    "array1 = np.array([3,4,5,6,7])\n",
    "array1[-3:]"
   ]
  },
  {
   "cell_type": "code",
   "execution_count": 49,
   "id": "080885c3",
   "metadata": {},
   "outputs": [
    {
     "data": {
      "text/plain": [
       "5"
      ]
     },
     "execution_count": 49,
     "metadata": {},
     "output_type": "execute_result"
    }
   ],
   "source": [
    "array1 = np.array([3,4,5,6,7])\n",
    "array1[-3]"
   ]
  },
  {
   "cell_type": "code",
   "execution_count": 50,
   "id": "a4220730",
   "metadata": {},
   "outputs": [
    {
     "data": {
      "text/plain": [
       "array([7, 6, 5, 4, 3])"
      ]
     },
     "execution_count": 50,
     "metadata": {},
     "output_type": "execute_result"
    }
   ],
   "source": [
    "array1 = np.array([3,4,5,6,7])\n",
    "array1[::-1]"
   ]
  },
  {
   "cell_type": "code",
   "execution_count": 53,
   "id": "0f342ac5",
   "metadata": {},
   "outputs": [
    {
     "data": {
      "text/plain": [
       "array([4, 5, 6])"
      ]
     },
     "execution_count": 53,
     "metadata": {},
     "output_type": "execute_result"
    }
   ],
   "source": [
    "array1 = np.array([3,4,5,6,7])\n",
    "array1[1:4:1]"
   ]
  },
  {
   "cell_type": "code",
   "execution_count": 54,
   "id": "7ece9b1c",
   "metadata": {},
   "outputs": [
    {
     "data": {
      "text/plain": [
       "array([4, 6])"
      ]
     },
     "execution_count": 54,
     "metadata": {},
     "output_type": "execute_result"
    }
   ],
   "source": [
    "array1 = np.array([3,4,5,6,7])\n",
    "array1[1:4:2]"
   ]
  },
  {
   "cell_type": "code",
   "execution_count": 55,
   "id": "76194498",
   "metadata": {},
   "outputs": [
    {
     "data": {
      "text/plain": [
       "array([], dtype=int32)"
      ]
     },
     "execution_count": 55,
     "metadata": {},
     "output_type": "execute_result"
    }
   ],
   "source": [
    "array1 = np.array([3,4,5,6,7])\n",
    "array1[4:1]"
   ]
  },
  {
   "cell_type": "code",
   "execution_count": 56,
   "id": "f9e58f54",
   "metadata": {},
   "outputs": [
    {
     "data": {
      "text/plain": [
       "array([7, 6, 5])"
      ]
     },
     "execution_count": 56,
     "metadata": {},
     "output_type": "execute_result"
    }
   ],
   "source": [
    "array1 = np.array([3,4,5,6,7])\n",
    "array1[4:1:-1]"
   ]
  },
  {
   "cell_type": "code",
   "execution_count": 57,
   "id": "df4b8b77",
   "metadata": {},
   "outputs": [
    {
     "data": {
      "text/plain": [
       "array([7, 5])"
      ]
     },
     "execution_count": 57,
     "metadata": {},
     "output_type": "execute_result"
    }
   ],
   "source": [
    "array1 = np.array([3,4,5,6,7])\n",
    "array1[4:1:-2]"
   ]
  },
  {
   "cell_type": "code",
   "execution_count": 58,
   "id": "721097b5",
   "metadata": {},
   "outputs": [
    {
     "data": {
      "text/plain": [
       "array([[ 2,  3,  4],\n",
       "       [10, 20, 30],\n",
       "       [40, 50, 60]])"
      ]
     },
     "execution_count": 58,
     "metadata": {},
     "output_type": "execute_result"
    }
   ],
   "source": [
    "array2 = np.array([[2,3,4],[10,20,30],[40,50,60]])\n",
    "array2"
   ]
  },
  {
   "cell_type": "code",
   "execution_count": 59,
   "id": "b57998c3",
   "metadata": {},
   "outputs": [
    {
     "data": {
      "text/plain": [
       "array([10, 20, 30])"
      ]
     },
     "execution_count": 59,
     "metadata": {},
     "output_type": "execute_result"
    }
   ],
   "source": [
    "array2[1]"
   ]
  },
  {
   "cell_type": "code",
   "execution_count": 60,
   "id": "30ea0f31",
   "metadata": {},
   "outputs": [
    {
     "data": {
      "text/plain": [
       "30"
      ]
     },
     "execution_count": 60,
     "metadata": {},
     "output_type": "execute_result"
    }
   ],
   "source": [
    "array2[1][2]"
   ]
  },
  {
   "cell_type": "code",
   "execution_count": 61,
   "id": "46fc88c1",
   "metadata": {},
   "outputs": [
    {
     "data": {
      "text/plain": [
       "30"
      ]
     },
     "execution_count": 61,
     "metadata": {},
     "output_type": "execute_result"
    }
   ],
   "source": [
    "array2[1,2]"
   ]
  },
  {
   "cell_type": "code",
   "execution_count": 63,
   "id": "b9deb92d",
   "metadata": {},
   "outputs": [
    {
     "data": {
      "text/plain": [
       "40"
      ]
     },
     "execution_count": 63,
     "metadata": {},
     "output_type": "execute_result"
    }
   ],
   "source": [
    "array2[2][0]"
   ]
  },
  {
   "cell_type": "code",
   "execution_count": 64,
   "id": "9c915680",
   "metadata": {},
   "outputs": [
    {
     "data": {
      "text/plain": [
       "40"
      ]
     },
     "execution_count": 64,
     "metadata": {},
     "output_type": "execute_result"
    }
   ],
   "source": [
    "array2[2,0]"
   ]
  },
  {
   "cell_type": "code",
   "execution_count": 65,
   "id": "47b75b18",
   "metadata": {},
   "outputs": [
    {
     "data": {
      "text/plain": [
       "array([[ 2,  3,  4],\n",
       "       [10, 20, 30],\n",
       "       [40, 50, 60]])"
      ]
     },
     "execution_count": 65,
     "metadata": {},
     "output_type": "execute_result"
    }
   ],
   "source": [
    "array2"
   ]
  },
  {
   "cell_type": "code",
   "execution_count": 66,
   "id": "a5199580",
   "metadata": {},
   "outputs": [
    {
     "data": {
      "text/plain": [
       "50"
      ]
     },
     "execution_count": 66,
     "metadata": {},
     "output_type": "execute_result"
    }
   ],
   "source": [
    "array2[2,1]"
   ]
  },
  {
   "cell_type": "code",
   "execution_count": 67,
   "id": "1231f0e6",
   "metadata": {},
   "outputs": [
    {
     "data": {
      "text/plain": [
       "array([[ 2,  3,  4],\n",
       "       [10, 20, 30],\n",
       "       [40, 50, 60]])"
      ]
     },
     "execution_count": 67,
     "metadata": {},
     "output_type": "execute_result"
    }
   ],
   "source": [
    "array2[:,:]  # all rows and all column"
   ]
  },
  {
   "cell_type": "code",
   "execution_count": 68,
   "id": "a8d766d9",
   "metadata": {},
   "outputs": [
    {
     "data": {
      "text/plain": [
       "array([ 3, 20, 50])"
      ]
     },
     "execution_count": 68,
     "metadata": {},
     "output_type": "execute_result"
    }
   ],
   "source": [
    "array2[:,1]# all rows and 1st column"
   ]
  },
  {
   "cell_type": "code",
   "execution_count": 69,
   "id": "aa32c56e",
   "metadata": {},
   "outputs": [
    {
     "data": {
      "text/plain": [
       "array([10, 20, 30])"
      ]
     },
     "execution_count": 69,
     "metadata": {},
     "output_type": "execute_result"
    }
   ],
   "source": [
    "array2[1,:] # 1st  row and all column"
   ]
  },
  {
   "cell_type": "code",
   "execution_count": 70,
   "id": "5da40736",
   "metadata": {},
   "outputs": [
    {
     "data": {
      "text/plain": [
       "array([10, 20])"
      ]
     },
     "execution_count": 70,
     "metadata": {},
     "output_type": "execute_result"
    }
   ],
   "source": [
    "array2[1,:2]# 1st index row, and (:2) >> 0 and 1 st column"
   ]
  },
  {
   "cell_type": "code",
   "execution_count": 71,
   "id": "95e77332",
   "metadata": {},
   "outputs": [
    {
     "data": {
      "text/plain": [
       "array([ 4, 30, 60])"
      ]
     },
     "execution_count": 71,
     "metadata": {},
     "output_type": "execute_result"
    }
   ],
   "source": [
    "array2[:,2]"
   ]
  },
  {
   "cell_type": "code",
   "execution_count": 72,
   "id": "ca628357",
   "metadata": {},
   "outputs": [
    {
     "data": {
      "text/plain": [
       "array([ 2, 10, 40])"
      ]
     },
     "execution_count": 72,
     "metadata": {},
     "output_type": "execute_result"
    }
   ],
   "source": [
    "array2[:,0]"
   ]
  },
  {
   "cell_type": "code",
   "execution_count": 73,
   "id": "3ed0e6df",
   "metadata": {},
   "outputs": [
    {
     "data": {
      "text/plain": [
       "array([[ 2,  3,  4],\n",
       "       [10, 20, 30],\n",
       "       [40, 50, 60]])"
      ]
     },
     "execution_count": 73,
     "metadata": {},
     "output_type": "execute_result"
    }
   ],
   "source": [
    "array2[:,:]  "
   ]
  },
  {
   "cell_type": "code",
   "execution_count": 74,
   "id": "ea41a6e8",
   "metadata": {},
   "outputs": [
    {
     "data": {
      "text/plain": [
       "array([[10, 20, 30],\n",
       "       [40, 50, 60]])"
      ]
     },
     "execution_count": 74,
     "metadata": {},
     "output_type": "execute_result"
    }
   ],
   "source": [
    "array2[1:,:]"
   ]
  },
  {
   "cell_type": "code",
   "execution_count": 75,
   "id": "3b059231",
   "metadata": {},
   "outputs": [
    {
     "data": {
      "text/plain": [
       "array([[10, 20],\n",
       "       [40, 50]])"
      ]
     },
     "execution_count": 75,
     "metadata": {},
     "output_type": "execute_result"
    }
   ],
   "source": [
    "array2[1:,:2]"
   ]
  },
  {
   "cell_type": "markdown",
   "id": "4f90ce87",
   "metadata": {},
   "source": [
    "# HomeWork"
   ]
  },
  {
   "cell_type": "code",
   "execution_count": 91,
   "id": "fb645b6c",
   "metadata": {},
   "outputs": [
    {
     "name": "stdout",
     "output_type": "stream",
     "text": [
      "[[ 2  3  4]\n",
      " [ 5  6  7]\n",
      " [10 20 30]]\n"
     ]
    }
   ],
   "source": [
    "array1 = np.array([[2,3,4],[5,6,7],[10,20,30]])\n",
    "print(array1)"
   ]
  },
  {
   "cell_type": "code",
   "execution_count": null,
   "id": "3596dfbd",
   "metadata": {},
   "outputs": [],
   "source": [
    "array1[1:,1:]"
   ]
  },
  {
   "cell_type": "code",
   "execution_count": null,
   "id": "9379d65e",
   "metadata": {},
   "outputs": [],
   "source": [
    "array3 = np.array([[[2,3,4],[5,6,7],[1,6,9],[10,60,90]],[[21,31,41],[51,61,71],[10,20,30],[100,200,300]]])\n",
    "array3"
   ]
  },
  {
   "cell_type": "code",
   "execution_count": null,
   "id": "6a01b247",
   "metadata": {},
   "outputs": [],
   "source": [
    "array3[1]"
   ]
  },
  {
   "cell_type": "code",
   "execution_count": null,
   "id": "98a1c754",
   "metadata": {},
   "outputs": [],
   "source": [
    "array3[1,0]"
   ]
  },
  {
   "cell_type": "code",
   "execution_count": null,
   "id": "61c0fc65",
   "metadata": {},
   "outputs": [],
   "source": [
    "array3[1,0,2]"
   ]
  },
  {
   "cell_type": "code",
   "execution_count": null,
   "id": "0ec746b8",
   "metadata": {},
   "outputs": [],
   "source": [
    "array3[:,:,1]"
   ]
  },
  {
   "cell_type": "code",
   "execution_count": null,
   "id": "624db3c9",
   "metadata": {},
   "outputs": [],
   "source": [
    "array3[:,2:,1:]"
   ]
  },
  {
   "cell_type": "code",
   "execution_count": null,
   "id": "6a79ef0e",
   "metadata": {},
   "outputs": [],
   "source": [
    "array3[:,2:,0:2]"
   ]
  },
  {
   "cell_type": "markdown",
   "id": "41b73783",
   "metadata": {},
   "source": [
    "# Numpy Functions"
   ]
  },
  {
   "cell_type": "markdown",
   "id": "5783fd76",
   "metadata": {},
   "source": [
    "# 1. Shape"
   ]
  },
  {
   "cell_type": "code",
   "execution_count": 76,
   "id": "77512060",
   "metadata": {},
   "outputs": [
    {
     "data": {
      "text/plain": [
       "12"
      ]
     },
     "execution_count": 76,
     "metadata": {},
     "output_type": "execute_result"
    }
   ],
   "source": [
    "array1 = np.array([2,3,4,5,6,7,10,20,30,50,60,70])\n",
    "len(array1)"
   ]
  },
  {
   "cell_type": "code",
   "execution_count": 77,
   "id": "9e78666d",
   "metadata": {},
   "outputs": [
    {
     "data": {
      "text/plain": [
       "(12,)"
      ]
     },
     "execution_count": 77,
     "metadata": {},
     "output_type": "execute_result"
    }
   ],
   "source": [
    "array1 = np.array([2,3,4,5,6,7,10,20,30,50,60,70])\n",
    "array1.shape"
   ]
  },
  {
   "cell_type": "code",
   "execution_count": 78,
   "id": "71bf351e",
   "metadata": {},
   "outputs": [
    {
     "data": {
      "text/plain": [
       "array([[ 2,  3,  4],\n",
       "       [ 5,  6,  7],\n",
       "       [10, 20, 30]])"
      ]
     },
     "execution_count": 78,
     "metadata": {},
     "output_type": "execute_result"
    }
   ],
   "source": [
    "array1 = np.array([[2,3,4],[5,6,7],[10,20,30]])\n",
    "array1"
   ]
  },
  {
   "cell_type": "code",
   "execution_count": 79,
   "id": "a37f1de3",
   "metadata": {},
   "outputs": [
    {
     "data": {
      "text/plain": [
       "(3, 3)"
      ]
     },
     "execution_count": 79,
     "metadata": {},
     "output_type": "execute_result"
    }
   ],
   "source": [
    "array1.shape"
   ]
  },
  {
   "cell_type": "code",
   "execution_count": 80,
   "id": "1baf4a62",
   "metadata": {},
   "outputs": [
    {
     "data": {
      "text/plain": [
       "array([[[  2,   3,   4],\n",
       "        [  5,   6,   7],\n",
       "        [  1,   6,   9],\n",
       "        [ 10,  20,  30]],\n",
       "\n",
       "       [[ 21,  31,  41],\n",
       "        [ 51,  61,  71],\n",
       "        [ 10,  60,  90],\n",
       "        [100, 200, 300]]])"
      ]
     },
     "execution_count": 80,
     "metadata": {},
     "output_type": "execute_result"
    }
   ],
   "source": [
    "array3 = np.array([[[2,3,4],[5,6,7],[1,6,9],[10,20,30]],[[21,31,41],[51,61,71],[10,60,90],[100,200,300]]])\n",
    "array3"
   ]
  },
  {
   "cell_type": "code",
   "execution_count": 81,
   "id": "f81a1be0",
   "metadata": {},
   "outputs": [
    {
     "data": {
      "text/plain": [
       "(2, 4, 3)"
      ]
     },
     "execution_count": 81,
     "metadata": {},
     "output_type": "execute_result"
    }
   ],
   "source": [
    "array3.shape"
   ]
  },
  {
   "cell_type": "code",
   "execution_count": 82,
   "id": "66a1e2ec",
   "metadata": {},
   "outputs": [
    {
     "name": "stdout",
     "output_type": "stream",
     "text": [
      "array3 is : [[[  2   3   4]\n",
      "  [  5   6   7]\n",
      "  [  1   6   9]\n",
      "  [ 10  20  30]]\n",
      "\n",
      " [[ 21  31  41]\n",
      "  [ 51  61  71]\n",
      "  [ 10  60  90]\n",
      "  [100 200 300]]]\n",
      "Number of dimension: 3\n"
     ]
    }
   ],
   "source": [
    "array3 = np.array([[[2,3,4],[5,6,7],[1,6,9],[10,20,30]],[[21,31,41],[51,61,71],[10,60,90],[100,200,300]]])\n",
    "print(\"array3 is :\",array3)\n",
    "print(\"Number of dimension:\", array3.ndim)"
   ]
  },
  {
   "cell_type": "code",
   "execution_count": 83,
   "id": "1fd538c3",
   "metadata": {},
   "outputs": [
    {
     "name": "stdout",
     "output_type": "stream",
     "text": [
      "array3 is : [[[  2   3   4]\n",
      "  [  5   6   7]\n",
      "  [  1   6   9]\n",
      "  [ 10  20  30]]\n",
      "\n",
      " [[ 21  31  41]\n",
      "  [ 51  61  71]\n",
      "  [ 10  60  90]\n",
      "  [100 200 300]]]\n",
      "Number of dimension: 3\n",
      "Shape of given array: (2, 4, 3)\n"
     ]
    }
   ],
   "source": [
    "array3 = np.array([[[2,3,4],[5,6,7],[1,6,9],[10,20,30]],[[21,31,41],[51,61,71],[10,60,90],[100,200,300]]])\n",
    "print(\"array3 is :\",array3)\n",
    "print(\"Number of dimension:\", array3.ndim)\n",
    "print(\"Shape of given array:\",array3.shape)"
   ]
  },
  {
   "cell_type": "code",
   "execution_count": 86,
   "id": "2afa4f00",
   "metadata": {},
   "outputs": [
    {
     "name": "stdout",
     "output_type": "stream",
     "text": [
      "[[ 2  3  4  5  6  7 10 20 30 50 60 70]]\n",
      "Dimension od array is : 2\n"
     ]
    }
   ],
   "source": [
    "array1 = np.array([2,3,4,5,6,7,10,20,30,50,60,70],ndmin = 2)\n",
    "print(array1)\n",
    "print(\"Dimension od array is :\",array1.ndim)"
   ]
  },
  {
   "cell_type": "code",
   "execution_count": 87,
   "id": "e659707b",
   "metadata": {},
   "outputs": [
    {
     "name": "stdout",
     "output_type": "stream",
     "text": [
      "[[[ 2  3  4  5  6  7 10 20 30 50 60 70]]]\n",
      "Dimension od array is : 3\n"
     ]
    }
   ],
   "source": [
    "array1 = np.array([2,3,4,5,6,7,10,20,30,50,60,70],ndmin = 3)\n",
    "print(array1)\n",
    "print(\"Dimension od array is :\",array1.ndim)"
   ]
  },
  {
   "cell_type": "code",
   "execution_count": 88,
   "id": "86110ff6",
   "metadata": {},
   "outputs": [
    {
     "name": "stdout",
     "output_type": "stream",
     "text": [
      "array1 is :\n",
      " [[ 2  3  4]\n",
      " [ 5  6  7]\n",
      " [10 20 30]]\n",
      "Dimension od array is : 2\n",
      "Shape of given array: (3, 3)\n"
     ]
    }
   ],
   "source": [
    "array1 = np.array([[2,3,4],[5,6,7],[10,20,30]],ndmin = 2)\n",
    "print(\"array1 is :\\n\",array1)\n",
    "print(\"Dimension od array is :\",array1.ndim)\n",
    "print(\"Shape of given array:\",array1.shape)"
   ]
  },
  {
   "cell_type": "code",
   "execution_count": 89,
   "id": "f15dc7ad",
   "metadata": {},
   "outputs": [
    {
     "name": "stdout",
     "output_type": "stream",
     "text": [
      "array1 is :\n",
      " [[[ 2  3  4]\n",
      "  [ 5  6  7]\n",
      "  [10 20 30]]]\n",
      "Dimension od array is : 3\n",
      "Shape of given array: (1, 3, 3)\n"
     ]
    }
   ],
   "source": [
    "array1 = np.array([[2,3,4],[5,6,7],[10,20,30]],ndmin = 3)\n",
    "print(\"array1 is :\\n\",array1)\n",
    "print(\"Dimension od array is :\",array1.ndim)\n",
    "print(\"Shape of given array:\",array1.shape)"
   ]
  },
  {
   "cell_type": "code",
   "execution_count": 90,
   "id": "ac7134ef",
   "metadata": {},
   "outputs": [
    {
     "name": "stdout",
     "output_type": "stream",
     "text": [
      "array1 is :\n",
      " [[[[[[ 2  3  4]\n",
      "     [ 5  6  7]\n",
      "     [10 20 30]]]]]]\n",
      "Dimension od array is : 6\n",
      "Shape of given array: (1, 1, 1, 1, 3, 3)\n"
     ]
    }
   ],
   "source": [
    "array1 = np.array([[2,3,4],[5,6,7],[10,20,30]],ndmin = 6)\n",
    "print(\"array1 is :\\n\",array1)\n",
    "print(\"Dimension od array is :\",array1.ndim)\n",
    "print(\"Shape of given array:\",array1.shape)"
   ]
  },
  {
   "cell_type": "code",
   "execution_count": null,
   "id": "5fa142d3",
   "metadata": {},
   "outputs": [],
   "source": []
  }
 ],
 "metadata": {
  "kernelspec": {
   "display_name": "Python 3",
   "language": "python",
   "name": "python3"
  },
  "language_info": {
   "codemirror_mode": {
    "name": "ipython",
    "version": 3
   },
   "file_extension": ".py",
   "mimetype": "text/x-python",
   "name": "python",
   "nbconvert_exporter": "python",
   "pygments_lexer": "ipython3",
   "version": "3.8.8"
  }
 },
 "nbformat": 4,
 "nbformat_minor": 5
}
